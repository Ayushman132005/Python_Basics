{
  "nbformat": 4,
  "nbformat_minor": 0,
  "metadata": {
    "colab": {
      "provenance": []
    },
    "kernelspec": {
      "name": "python3",
      "display_name": "Python 3"
    },
    "language_info": {
      "name": "python"
    }
  },
  "cells": [
    {
      "cell_type": "markdown",
      "source": [
        "# Python Basics\n"
      ],
      "metadata": {
        "id": "tKd-YhtQkD_7"
      }
    },
    {
      "cell_type": "markdown",
      "source": [
        "1. What is Python, and why is it popular?\n",
        "    - Python is a programming language use to give instruction to a computer. It's popular because of it's librarys and community support.\n",
        "\n",
        "2. What is an interpreter in Python?\n",
        "    - An Interpreter is an translator converts the program code written by user to the machine level code. Interpreter not complies the program in one go as complier does. Interpreter simultaneously complies and runs the program.\n",
        "\n",
        "3. What are pre-defined keywords in Python?\n",
        "    - Pre-defined Keywords in python are the words that assigned with a special meaning in the program. We cannot use the keywords name as the variable name if we do then the meaning that assigned to that word will be changed.\n",
        "     Example :- (print, if, else, def,...,many more).\n",
        "\n",
        "4. Can keywords be used as variable names?\n",
        "    - No, A keywords cannot be used as the name of any variable, If we use then the meaning that assigned to the keyword changes and we cannot use the functionality of that keyword again in our program.\n",
        "\n",
        "5. What is mutability in Python?\n",
        "    - Mutability in python means that if we have declared an object in our program then we can modify,add and remove any element from that object if and only if that object is mutable.\n",
        "     Example :- Lists, Dictionary, Sets, ...etc.\n",
        "\n",
        "6. Why are lists mutable, but tuples are immutable?\n",
        "    - Lists are mutable in Python, allowing modification of their elements after creation. This provides flexibility for dynamic data. Tuples, however, are immutable, meaning their contents can't be changed once created. This immutability offers benefits like faster performance, memory efficiency, and the ability to use tuples as dictionary keys.\n",
        "\n",
        "\n",
        "7. What is the difference between “==” and “is” operators in Python?\n",
        "    - The main diccerence between the \"==\" and \"is\" operator is that \"==\" operater compares the values and \"is\" operator compares the memory location.\n",
        "     Example :- 5 == 5 --> true, a = 5 , b = a , b is a --> true\n",
        "\n",
        "8. What are logical operators in Python?\n",
        "    - Logical operators is a type of operators which answers either true or false based on the conodition and operator used. There are 3 types of logical operator present in python that are:\n",
        "    1. or :- answers true when any one condition is true\n",
        "    2. and :- answers false when any one condition is false\n",
        "    3. not :- change the condition.\n",
        "\n",
        "9. What is type casting in Python?\n",
        "    - Type casting is a way of changing the type of variable.\n",
        "\n",
        "10. What is the difference between implicit and explicit type casting?\n",
        "    - There are 2 ways of type casting :     \n",
        "    1. implicitly :- python automatically changes the type in expressions.\n",
        "     EXample :- a = 5 , b = 4.5 , c = a + b = 9.5 pthon changes type of variable a to float from int in the expression \"a+b\".\n",
        "    2. explicetly :- we force fully changes the type.\n",
        "     Example :- int(3.5) = 3, str(33) = \"33\".\n",
        "\n",
        "11. What is the purpose of conditional statements in Python?\n",
        "    - The purpose of conditional statements is to check the condition if it is true then it let the flow of the execution of the program inside the block of the condition.\n",
        "     There are three statements for checking the conditions :-\n",
        "     1. if\n",
        "     2. elif\n",
        "     3. else\n",
        "\n",
        "12. How does the elif statement work?\n",
        "    - In a program elif statements are always written below the if statements, If the condition written inside the if ststement is false then only the condition of elif statement will check, If the condition is true then the code written inside the elif statement will be execute else it will check the next condition.\n",
        "\n",
        "13. What is the difference between for and while loops?\n",
        "    - for loop is used to treverse on the objects like :- lists,strings,tuples,sets,..etc.\n",
        "     while loop is used when we have to iterate on a perticular block of code again and again until some condition is true.\n",
        "\n",
        "14. Describe a scenario where a while loop is more suitable than a for loop.\n",
        "    - if we have to calculate the sum of first n natural numbers then the while loop is more suitable than a for loop. Because we only have to run the code of calculation until the condition of iterator is less than equal to n holdes."
      ],
      "metadata": {
        "id": "T9O-WaD3kW_q"
      }
    },
    {
      "cell_type": "code",
      "execution_count": 2,
      "metadata": {
        "colab": {
          "base_uri": "https://localhost:8080/"
        },
        "id": "z5nvXXk-kC5G",
        "outputId": "15e2d71c-49eb-41ec-f12c-91d86b3d4445"
      },
      "outputs": [
        {
          "output_type": "stream",
          "name": "stdout",
          "text": [
            "Enter a number :- 6\n",
            "The sum of first 0 natural numbers is 21\n"
          ]
        }
      ],
      "source": [
        "#Example\n",
        "n = int(input(\"Enter a number :- \"))\n",
        "sum = 0\n",
        "while(n>0):\n",
        "    sum +=n\n",
        "    n = n-1\n",
        "print(f\"The sum of first {n} natural numbers is {sum}\")"
      ]
    },
    {
      "cell_type": "markdown",
      "source": [
        "# Practical Questions\n"
      ],
      "metadata": {
        "id": "cFFPwEY5kN6w"
      }
    },
    {
      "cell_type": "markdown",
      "source": [
        "1. Write a Python program to print \"Hello, World!"
      ],
      "metadata": {
        "id": "eNjS7BP7ywL1"
      }
    },
    {
      "cell_type": "code",
      "source": [
        "print(\"Hello, World!\")"
      ],
      "metadata": {
        "colab": {
          "base_uri": "https://localhost:8080/"
        },
        "id": "bz2Tozvry1qN",
        "outputId": "4674ebcd-046c-4cec-d723-7720d45a7344"
      },
      "execution_count": 3,
      "outputs": [
        {
          "output_type": "stream",
          "name": "stdout",
          "text": [
            "Hello, World!\n"
          ]
        }
      ]
    },
    {
      "cell_type": "markdown",
      "source": [
        "2. Write a Python program that displays your name and age."
      ],
      "metadata": {
        "id": "og_jWLVKzCIL"
      }
    },
    {
      "cell_type": "code",
      "source": [
        "name = input(\"Enter your name :- \")\n",
        "age = int(input(\"Enter your age :- \"))\n",
        "print(f\"Your name is {name}\")\n",
        "print(f\"Your age is {age}\")"
      ],
      "metadata": {
        "colab": {
          "base_uri": "https://localhost:8080/"
        },
        "id": "FWcUDjB2zJvi",
        "outputId": "14a5dd7c-1639-4bb9-afd0-37c31afc6e8b"
      },
      "execution_count": 4,
      "outputs": [
        {
          "output_type": "stream",
          "name": "stdout",
          "text": [
            "Enter your name :- Ayushman\n",
            "Enter your age :- 20\n",
            "Your name is Ayushman\n",
            "Your age is 20\n"
          ]
        }
      ]
    },
    {
      "cell_type": "markdown",
      "source": [
        "3. Write code to print all the pre-defined keywords in Python using the keyword\n",
        "   library."
      ],
      "metadata": {
        "id": "MgfT1FmSz7cU"
      }
    },
    {
      "cell_type": "code",
      "source": [
        "import keyword as k\n",
        "print(k.kwlist)"
      ],
      "metadata": {
        "colab": {
          "base_uri": "https://localhost:8080/"
        },
        "id": "xPeR0VRY0A4o",
        "outputId": "aae8d142-3993-431f-8156-48a17d932ed3"
      },
      "execution_count": 9,
      "outputs": [
        {
          "output_type": "stream",
          "name": "stdout",
          "text": [
            "['False', 'None', 'True', 'and', 'as', 'assert', 'async', 'await', 'break', 'class', 'continue', 'def', 'del', 'elif', 'else', 'except', 'finally', 'for', 'from', 'global', 'if', 'import', 'in', 'is', 'lambda', 'nonlocal', 'not', 'or', 'pass', 'raise', 'return', 'try', 'while', 'with', 'yield']\n"
          ]
        }
      ]
    },
    {
      "cell_type": "markdown",
      "source": [
        "4. Write a program that checks if a given word is a Python keyword."
      ],
      "metadata": {
        "id": "EM13jLhI0BTR"
      }
    },
    {
      "cell_type": "code",
      "source": [
        "import keyword as k\n",
        "a = input(\"Enter the word :- \")\n",
        "if(k.iskeyword(a)):\n",
        "  print(f\"Yes, {a} is a keyword in python.\")\n",
        "else:\n",
        "  print(f\"No, {a} is not a keyword in python.\")"
      ],
      "metadata": {
        "colab": {
          "base_uri": "https://localhost:8080/"
        },
        "id": "7VsGzZnt0CE3",
        "outputId": "73706b23-5d0e-4925-b4f0-c0239f8961ab"
      },
      "execution_count": 11,
      "outputs": [
        {
          "output_type": "stream",
          "name": "stdout",
          "text": [
            "Enter the word :- for\n",
            "Yes, for is a keyword in python.\n"
          ]
        }
      ]
    },
    {
      "cell_type": "markdown",
      "source": [
        "5.  Create a list and tuple in Python, and demonstrate how attempting to change an element works differently\n",
        "for each."
      ],
      "metadata": {
        "id": "YLTRmQ4l0ClI"
      }
    },
    {
      "cell_type": "code",
      "source": [
        "#list\n",
        "l = [1,2,3.3,\"name\",True]\n",
        "l[3] = \"hello\"\n",
        "print(l)"
      ],
      "metadata": {
        "colab": {
          "base_uri": "https://localhost:8080/"
        },
        "id": "XPZ4Q-md0Du9",
        "outputId": "e43634a6-74e6-4c5a-9821-b8028fdd3041"
      },
      "execution_count": 12,
      "outputs": [
        {
          "output_type": "stream",
          "name": "stdout",
          "text": [
            "[1, 2, 3.3, 'hello', True]\n"
          ]
        }
      ]
    },
    {
      "cell_type": "code",
      "source": [
        "#tuple\n",
        "t = (1,2,3.3,\"name\",True)\n",
        "t[3] = \"hello\"\n",
        "print(t)"
      ],
      "metadata": {
        "colab": {
          "base_uri": "https://localhost:8080/",
          "height": 193
        },
        "id": "6LcpUZf31qK_",
        "outputId": "e1efa9df-fe14-45ea-bfdf-5fbfb4e8f8b9"
      },
      "execution_count": 13,
      "outputs": [
        {
          "output_type": "error",
          "ename": "TypeError",
          "evalue": "'tuple' object does not support item assignment",
          "traceback": [
            "\u001b[0;31m---------------------------------------------------------------------------\u001b[0m",
            "\u001b[0;31mTypeError\u001b[0m                                 Traceback (most recent call last)",
            "\u001b[0;32m<ipython-input-13-dfc0da486f66>\u001b[0m in \u001b[0;36m<cell line: 0>\u001b[0;34m()\u001b[0m\n\u001b[1;32m      1\u001b[0m \u001b[0;31m#tuple\u001b[0m\u001b[0;34m\u001b[0m\u001b[0;34m\u001b[0m\u001b[0m\n\u001b[1;32m      2\u001b[0m \u001b[0mt\u001b[0m \u001b[0;34m=\u001b[0m \u001b[0;34m(\u001b[0m\u001b[0;36m1\u001b[0m\u001b[0;34m,\u001b[0m\u001b[0;36m2\u001b[0m\u001b[0;34m,\u001b[0m\u001b[0;36m3.3\u001b[0m\u001b[0;34m,\u001b[0m\u001b[0;34m\"name\"\u001b[0m\u001b[0;34m,\u001b[0m\u001b[0;32mTrue\u001b[0m\u001b[0;34m)\u001b[0m\u001b[0;34m\u001b[0m\u001b[0;34m\u001b[0m\u001b[0m\n\u001b[0;32m----> 3\u001b[0;31m \u001b[0mt\u001b[0m\u001b[0;34m[\u001b[0m\u001b[0;36m3\u001b[0m\u001b[0;34m]\u001b[0m \u001b[0;34m=\u001b[0m \u001b[0;34m\"hello\"\u001b[0m\u001b[0;34m\u001b[0m\u001b[0;34m\u001b[0m\u001b[0m\n\u001b[0m\u001b[1;32m      4\u001b[0m \u001b[0mprint\u001b[0m\u001b[0;34m(\u001b[0m\u001b[0mt\u001b[0m\u001b[0;34m)\u001b[0m\u001b[0;34m\u001b[0m\u001b[0;34m\u001b[0m\u001b[0m\n",
            "\u001b[0;31mTypeError\u001b[0m: 'tuple' object does not support item assignment"
          ]
        }
      ]
    },
    {
      "cell_type": "markdown",
      "source": [
        " 6. Write a function to demonstrate the behavior of mutable and immutable arguments."
      ],
      "metadata": {
        "id": "OYKPd1Yw0EHM"
      }
    },
    {
      "cell_type": "code",
      "source": [
        "def test(a, b):\n",
        "    a += 5\n",
        "    b.append(10)\n",
        "\n",
        "x = 10\n",
        "y = [1, 2]\n",
        "\n",
        "test(x, y)\n",
        "\n",
        "print(x)\n",
        "print(y) #Mutable change reflects"
      ],
      "metadata": {
        "colab": {
          "base_uri": "https://localhost:8080/"
        },
        "id": "oM2_oI7y0EoT",
        "outputId": "81c25737-7b83-4657-dfce-546fd06aa04f"
      },
      "execution_count": 14,
      "outputs": [
        {
          "output_type": "stream",
          "name": "stdout",
          "text": [
            "10\n",
            "[1, 2, 10]\n"
          ]
        }
      ]
    },
    {
      "cell_type": "markdown",
      "source": [
        "7.  Write a program that performs basic arithmetic operations on two user-input numbers"
      ],
      "metadata": {
        "id": "ewyg0Ati0FRs"
      }
    },
    {
      "cell_type": "code",
      "source": [
        "a = int(input(\"Enter first number :- \"))\n",
        "b = int(input(\"Enter first number :- \"))\n",
        "print(a+b)"
      ],
      "metadata": {
        "colab": {
          "base_uri": "https://localhost:8080/"
        },
        "id": "Q-zVhcS80FrF",
        "outputId": "c2fc875c-15dd-4d3d-ddad-0b5cda48cdde"
      },
      "execution_count": 15,
      "outputs": [
        {
          "output_type": "stream",
          "name": "stdout",
          "text": [
            "Enter first number :- 3\n",
            "Enter first number :- 5\n",
            "8\n"
          ]
        }
      ]
    },
    {
      "cell_type": "markdown",
      "source": [
        "8.  Write a program to demonstrate the use of logical operators."
      ],
      "metadata": {
        "id": "wKnzWSce0GG3"
      }
    },
    {
      "cell_type": "code",
      "source": [
        "age = int(input(\"Enter your age :- \"))\n",
        "if(age>=18 and age<=65): # and is a logical operator\n",
        "  print(\"You are adult\")\n",
        "elif(age>65):\n",
        "  print(\"You are older\")\n",
        "else:\n",
        "  print(\"You are younger\")"
      ],
      "metadata": {
        "colab": {
          "base_uri": "https://localhost:8080/"
        },
        "id": "UfS36uHX0GoD",
        "outputId": "a245187c-ac3c-4a60-a2d9-df924d914aa5"
      },
      "execution_count": 16,
      "outputs": [
        {
          "output_type": "stream",
          "name": "stdout",
          "text": [
            "Enter first number :- 45\n",
            "You are adult\n"
          ]
        }
      ]
    },
    {
      "cell_type": "markdown",
      "source": [
        "9.  Write a Python program to convert user input from string to integer, float, and boolean types."
      ],
      "metadata": {
        "id": "lk9KAshh0HB4"
      }
    },
    {
      "cell_type": "code",
      "source": [
        "a = input(\"Enter a number :- \")\n",
        "print(int(a))\n",
        "print(float(a))\n",
        "print(bool(a))\n"
      ],
      "metadata": {
        "colab": {
          "base_uri": "https://localhost:8080/"
        },
        "id": "6Jg_fjHn3Sng",
        "outputId": "c1b6ed0c-3e5e-447d-de04-180335303610"
      },
      "execution_count": 19,
      "outputs": [
        {
          "output_type": "stream",
          "name": "stdout",
          "text": [
            "Enter first number :- 34\n",
            "34\n",
            "34.0\n",
            "True\n"
          ]
        }
      ]
    },
    {
      "cell_type": "markdown",
      "source": [
        "10. Write code to demonstrate type casting with list elements."
      ],
      "metadata": {
        "id": "jlF63h-e3o-G"
      }
    },
    {
      "cell_type": "code",
      "source": [
        "str_list = ['1', '2', '3']\n",
        "int_list = [int(x) for x in str_list]\n",
        "\n",
        "print(int_list)"
      ],
      "metadata": {
        "colab": {
          "base_uri": "https://localhost:8080/"
        },
        "id": "p7DAVagB3ujh",
        "outputId": "df8fd418-3926-4b22-bfe3-19acc976a1e6"
      },
      "execution_count": 20,
      "outputs": [
        {
          "output_type": "stream",
          "name": "stdout",
          "text": [
            "[1, 2, 3]\n"
          ]
        }
      ]
    },
    {
      "cell_type": "markdown",
      "source": [
        "11. Write a program that checks if a number is positive, negative, or zero.\n",
        "\n"
      ],
      "metadata": {
        "id": "ZIscRU3y39n1"
      }
    },
    {
      "cell_type": "code",
      "source": [
        "a = int(input(\"Enter a number :- \"))\n",
        "if(a>0):\n",
        "  print(\"Positive\")\n",
        "elif(a<0):\n",
        "  print(\"Negative\")\n",
        "else:\n",
        "  print(\"Zero\")"
      ],
      "metadata": {
        "colab": {
          "base_uri": "https://localhost:8080/"
        },
        "id": "K2uZa5M44AsE",
        "outputId": "ab105a72-362d-43e5-c335-07ef1b6aa346"
      },
      "execution_count": 21,
      "outputs": [
        {
          "output_type": "stream",
          "name": "stdout",
          "text": [
            "Enter first number :- -4\n",
            "Negative\n"
          ]
        }
      ]
    },
    {
      "cell_type": "markdown",
      "source": [
        "12. Write a for loop to print numbers from 1 to 10."
      ],
      "metadata": {
        "id": "3jIOWkup4VUR"
      }
    },
    {
      "cell_type": "code",
      "source": [
        "for i in range(1,11):\n",
        "  print(i)"
      ],
      "metadata": {
        "colab": {
          "base_uri": "https://localhost:8080/"
        },
        "id": "cDaB9Hki4Swr",
        "outputId": "1302fbb0-233d-4e66-8458-7c8c662d2c38"
      },
      "execution_count": 22,
      "outputs": [
        {
          "output_type": "stream",
          "name": "stdout",
          "text": [
            "0\n",
            "1\n",
            "2\n",
            "3\n",
            "4\n",
            "5\n",
            "6\n",
            "7\n",
            "8\n",
            "9\n",
            "10\n"
          ]
        }
      ]
    },
    {
      "cell_type": "markdown",
      "source": [
        "13. Write a Python program to find the sum of all even numbers between 1 and 50"
      ],
      "metadata": {
        "id": "AQ2Io7gb4iwZ"
      }
    },
    {
      "cell_type": "code",
      "source": [
        "even_sum = 0\n",
        "for i in range(2,51,2):\n",
        "  even_sum += i\n",
        "print(\"Sum of even numbers from 1 to 50 is:\", even_sum)"
      ],
      "metadata": {
        "colab": {
          "base_uri": "https://localhost:8080/"
        },
        "id": "vMhd748u4eTZ",
        "outputId": "e95b7ee1-1663-493b-99b7-cb59aaa3d8fa"
      },
      "execution_count": 24,
      "outputs": [
        {
          "output_type": "stream",
          "name": "stdout",
          "text": [
            "Sum of even numbers from 1 to 50 is: 650\n"
          ]
        }
      ]
    },
    {
      "cell_type": "markdown",
      "source": [
        "14.  Write a program to reverse a string using a while loop."
      ],
      "metadata": {
        "id": "ccthCx7c5EyZ"
      }
    },
    {
      "cell_type": "code",
      "source": [
        "del len\n",
        "s = input(\"Enter a string: \")\n",
        "i = len(s) - 1\n",
        "rev = \"\"\n",
        "while i >= 0:\n",
        "    rev += s[i]\n",
        "    i -= 1\n",
        "print(\"Reversed:\", rev)"
      ],
      "metadata": {
        "colab": {
          "base_uri": "https://localhost:8080/"
        },
        "id": "fWf9LbkI42n8",
        "outputId": "44216688-288b-42c1-b4e8-cf9c6a0416f5"
      },
      "execution_count": 30,
      "outputs": [
        {
          "output_type": "stream",
          "name": "stdout",
          "text": [
            "Enter a string: abcde\n",
            "Reversed: edcba\n"
          ]
        }
      ]
    },
    {
      "cell_type": "markdown",
      "source": [
        "15.  Write a Python program to calculate the factorial of a number provided by the user using a while loop."
      ],
      "metadata": {
        "id": "itkVovb36VsM"
      }
    },
    {
      "cell_type": "code",
      "source": [
        "num = int(input(\"Enter a number :- \"))\n",
        "fact = 1\n",
        "i = num\n",
        "while(i>=1):\n",
        "  fact = fact*i\n",
        "  i -= 1\n",
        "print(f\"Factorial of {num} is {fact}\")"
      ],
      "metadata": {
        "colab": {
          "base_uri": "https://localhost:8080/"
        },
        "id": "RwWle8TK5pGP",
        "outputId": "037df514-f886-41e4-b192-ba4169563cba"
      },
      "execution_count": 31,
      "outputs": [
        {
          "output_type": "stream",
          "name": "stdout",
          "text": [
            "Enter a number :- 5\n",
            "Factorial of 5 is 120\n"
          ]
        }
      ]
    }
  ]
}